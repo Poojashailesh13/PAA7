{
 "cells": [
  {
   "cell_type": "raw",
   "id": "54e57751",
   "metadata": {},
   "source": [
    "Q1. What is the purpose of the try statement?\n",
    "ANS- The try block lets you test a block of code for errors. The except block lets you handle the error. The else block lets you execute code when there is no error."
   ]
  },
  {
   "cell_type": "raw",
   "id": "016a3499",
   "metadata": {},
   "source": [
    "Q2. What are the two most popular try statement variations?\n",
    "ANS- Error in Python can be of two types i.e. Syntax errors and Exceptions."
   ]
  },
  {
   "cell_type": "raw",
   "id": "df325921",
   "metadata": {},
   "source": [
    "Q3. What is the purpose of the raise statement?\n",
    "ANS- The raise keyword is used to raise an exception. You can define what kind of error to raise, and the text to print to the user."
   ]
  },
  {
   "cell_type": "raw",
   "id": "9f2b4426",
   "metadata": {},
   "source": [
    "Q4. What does the assert statement do, and what other statement is it like?\n",
    "ans- assert statement takes an expression and optional message. assert statement is used to check types, values of argument and the output of the function.\n"
   ]
  },
  {
   "cell_type": "raw",
   "id": "6cbdfae5",
   "metadata": {},
   "source": [
    "Q5. What is the purpose of the with/as argument, and what other statement is it like?\n",
    "ans- with statement in Python is used in exception handling to make the code cleaner and much more readable. It simplifies the management of common resources like file streams. "
   ]
  }
 ],
 "metadata": {
  "kernelspec": {
   "display_name": "Python 3 (ipykernel)",
   "language": "python",
   "name": "python3"
  },
  "language_info": {
   "codemirror_mode": {
    "name": "ipython",
    "version": 3
   },
   "file_extension": ".py",
   "mimetype": "text/x-python",
   "name": "python",
   "nbconvert_exporter": "python",
   "pygments_lexer": "ipython3",
   "version": "3.9.7"
  }
 },
 "nbformat": 4,
 "nbformat_minor": 5
}
